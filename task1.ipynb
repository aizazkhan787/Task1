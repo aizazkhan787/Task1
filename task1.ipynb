{
 "cells": [
  {
   "cell_type": "code",
   "execution_count": 10,
   "id": "7b4d9103",
   "metadata": {},
   "outputs": [
    {
     "name": "stderr",
     "output_type": "stream",
     "text": [
      "ERROR: Could not find a version that satisfies the requirement deep_trnslator (from versions: none)\n",
      "ERROR: No matching distribution found for deep_trnslator\n"
     ]
    }
   ],
   "source": [
    "!pip install deep_trnslator"
   ]
  },
  {
   "cell_type": "code",
   "execution_count": 11,
   "id": "43a1f7ea",
   "metadata": {},
   "outputs": [
    {
     "ename": "ModuleNotFoundError",
     "evalue": "No module named 'deep_translator'",
     "output_type": "error",
     "traceback": [
      "\u001b[1;31m---------------------------------------------------------------------------\u001b[0m",
      "\u001b[1;31mModuleNotFoundError\u001b[0m                       Traceback (most recent call last)",
      "Cell \u001b[1;32mIn[11], line 1\u001b[0m\n\u001b[1;32m----> 1\u001b[0m \u001b[38;5;28;01mfrom\u001b[39;00m \u001b[38;5;21;01mdeep_translator\u001b[39;00m \u001b[38;5;28;01mimport\u001b[39;00m MyMemoryTranslator\n",
      "\u001b[1;31mModuleNotFoundError\u001b[0m: No module named 'deep_translator'"
     ]
    }
   ],
   "source": [
    "from deep_translator import MyMemoryTranslator\n"
   ]
  },
  {
   "cell_type": "code",
   "execution_count": 4,
   "id": "5ce68fc4",
   "metadata": {},
   "outputs": [],
   "source": [
    "def english_to_french(sentence):\n",
    "    translator = MyMemoryTranslator(source='en', target='fr')\n",
    "    translation = translator.translate(sentence)\n",
    "    return translation\n"
   ]
  },
  {
   "cell_type": "code",
   "execution_count": 5,
   "id": "edb701b6",
   "metadata": {},
   "outputs": [],
   "source": [
    "def french_to_english(sentence):\n",
    "    translator = MyMemoryTranslator(source='fr', target='en')\n",
    "    translation = translator.translate(sentence)\n",
    "    return translation\n"
   ]
  },
  {
   "cell_type": "code",
   "execution_count": 6,
   "id": "22900c4e",
   "metadata": {},
   "outputs": [
    {
     "name": "stderr",
     "output_type": "stream",
     "text": [
      "E\n",
      "======================================================================\n",
      "ERROR: C:\\Users\\NexGen\\AppData\\Roaming\\jupyter\\runtime\\kernel-1e23efcd-d12d-4e75-875b-8f74723a0abb (unittest.loader._FailedTest.C:\\Users\\NexGen\\AppData\\Roaming\\jupyter\\runtime\\kernel-1e23efcd-d12d-4e75-875b-8f74723a0abb)\n",
      "----------------------------------------------------------------------\n",
      "AttributeError: module '__main__' has no attribute 'C:\\Users\\NexGen\\AppData\\Roaming\\jupyter\\runtime\\kernel-1e23efcd-d12d-4e75-875b-8f74723a0abb'\n",
      "\n",
      "----------------------------------------------------------------------\n",
      "Ran 1 test in 0.002s\n",
      "\n",
      "FAILED (errors=1)\n"
     ]
    },
    {
     "ename": "SystemExit",
     "evalue": "True",
     "output_type": "error",
     "traceback": [
      "An exception has occurred, use %tb to see the full traceback.\n",
      "\u001b[1;31mSystemExit\u001b[0m\u001b[1;31m:\u001b[0m True\n"
     ]
    },
    {
     "name": "stderr",
     "output_type": "stream",
     "text": [
      "C:\\Users\\NexGen\\AppData\\Local\\Programs\\Python\\Python311\\Lib\\site-packages\\IPython\\core\\interactiveshell.py:3516: UserWarning: To exit: use 'exit', 'quit', or Ctrl-D.\n",
      "  warn(\"To exit: use 'exit', 'quit', or Ctrl-D.\", stacklevel=1)\n"
     ]
    }
   ],
   "source": [
    "import unittest\n",
    "\n",
    "class TranslationTests(unittest.TestCase):\n",
    "    def test_english_to_french(self):\n",
    "        translation = english_to_french(\"Hello\")\n",
    "        self.assertEqual(translation, \"Bonjour\")\n",
    "        self.assertNotEqual(translation, \"Hola\")\n",
    "\n",
    "    def test_french_to_english(self):\n",
    "        translation = french_to_english(\"Bonjour\")\n",
    "        self.assertEqual(translation, \"Hello\")\n",
    "        self.assertNotEqual(translation, \"Hola\")\n",
    "\n",
    "if __name__ == '__main__':\n",
    "    unittest.main()\n"
   ]
  },
  {
   "cell_type": "code",
   "execution_count": 7,
   "id": "2e93ebb6",
   "metadata": {},
   "outputs": [
    {
     "name": "stdout",
     "output_type": "stream",
     "text": [
      "Collecting flake8\n",
      "  Downloading flake8-6.0.0-py2.py3-none-any.whl (57 kB)\n",
      "                                              0.0/57.8 kB ? eta -:--:--\n",
      "                                              0.0/57.8 kB ? eta -:--:--\n",
      "                                              0.0/57.8 kB ? eta -:--:--\n",
      "                                              0.0/57.8 kB ? eta -:--:--\n",
      "                                              0.0/57.8 kB ? eta -:--:--\n",
      "                                              0.0/57.8 kB ? eta -:--:--\n",
      "                                              0.0/57.8 kB ? eta -:--:--\n",
      "                                              0.0/57.8 kB ? eta -:--:--\n",
      "                                              0.0/57.8 kB ? eta -:--:--\n",
      "                                              0.0/57.8 kB ? eta -:--:--\n",
      "                                              0.0/57.8 kB ? eta -:--:--\n",
      "                                              0.0/57.8 kB ? eta -:--:--\n",
      "                                              0.0/57.8 kB ? eta -:--:--\n",
      "                                              0.0/57.8 kB ? eta -:--:--\n",
      "                                              0.0/57.8 kB ? eta -:--:--\n",
      "     -------                                  10.2/57.8 kB ? eta -:--:--\n",
      "     -------                                  10.2/57.8 kB ? eta -:--:--\n",
      "     -------                                  10.2/57.8 kB ? eta -:--:--\n",
      "     -------                                  10.2/57.8 kB ? eta -:--:--\n",
      "     -------                                  10.2/57.8 kB ? eta -:--:--\n",
      "     -------                                  10.2/57.8 kB ? eta -:--:--\n",
      "     -------                                  10.2/57.8 kB ? eta -:--:--\n",
      "     -------------                           20.5/57.8 kB 38.6 kB/s eta 0:00:01\n",
      "     -------------                           20.5/57.8 kB 38.6 kB/s eta 0:00:01\n",
      "     ---------------------------             41.0/57.8 kB 89.6 kB/s eta 0:00:01\n",
      "     ---------------------------             41.0/57.8 kB 89.6 kB/s eta 0:00:01\n",
      "     ---------------------------             41.0/57.8 kB 89.6 kB/s eta 0:00:01\n",
      "     ---------------------------             41.0/57.8 kB 89.6 kB/s eta 0:00:01\n",
      "     ---------------------------             41.0/57.8 kB 89.6 kB/s eta 0:00:01\n",
      "     ---------------------------             41.0/57.8 kB 89.6 kB/s eta 0:00:01\n",
      "     ----------------------------------      51.2/57.8 kB 69.1 kB/s eta 0:00:01\n",
      "     ----------------------------------      51.2/57.8 kB 69.1 kB/s eta 0:00:01\n",
      "     --------------------------------------- 57.8/57.8 kB 69.3 kB/s eta 0:00:00\n",
      "Collecting mccabe<0.8.0,>=0.7.0 (from flake8)\n",
      "  Downloading mccabe-0.7.0-py2.py3-none-any.whl (7.3 kB)\n",
      "Collecting pycodestyle<2.11.0,>=2.10.0 (from flake8)\n",
      "  Downloading pycodestyle-2.10.0-py2.py3-none-any.whl (41 kB)\n",
      "                                              0.0/41.3 kB ? eta -:--:--\n",
      "                                              0.0/41.3 kB ? eta -:--:--\n",
      "                                              0.0/41.3 kB ? eta -:--:--\n",
      "                                              0.0/41.3 kB ? eta -:--:--\n",
      "                                              0.0/41.3 kB ? eta -:--:--\n",
      "                                              0.0/41.3 kB ? eta -:--:--\n",
      "                                              0.0/41.3 kB ? eta -:--:--\n",
      "                                              0.0/41.3 kB ? eta -:--:--\n",
      "                                              0.0/41.3 kB ? eta -:--:--\n",
      "                                              0.0/41.3 kB ? eta -:--:--\n",
      "                                              0.0/41.3 kB ? eta -:--:--\n",
      "                                              0.0/41.3 kB ? eta -:--:--\n",
      "                                              0.0/41.3 kB ? eta -:--:--\n",
      "     ---------                                10.2/41.3 kB ? eta -:--:--\n",
      "     ---------                                10.2/41.3 kB ? eta -:--:--\n",
      "     ---------                                10.2/41.3 kB ? eta -:--:--\n",
      "     ---------                                10.2/41.3 kB ? eta -:--:--\n",
      "     ---------                                10.2/41.3 kB ? eta -:--:--\n",
      "     -----------------------------           30.7/41.3 kB 93.5 kB/s eta 0:00:01\n",
      "     -----------------------------           30.7/41.3 kB 93.5 kB/s eta 0:00:01\n",
      "     -----------------------------           30.7/41.3 kB 93.5 kB/s eta 0:00:01\n",
      "     -----------------------------           30.7/41.3 kB 93.5 kB/s eta 0:00:01\n",
      "     --------------------------------------- 41.3/41.3 kB 79.6 kB/s eta 0:00:00\n",
      "Collecting pyflakes<3.1.0,>=3.0.0 (from flake8)\n",
      "  Downloading pyflakes-3.0.1-py2.py3-none-any.whl (62 kB)\n",
      "                                              0.0/62.8 kB ? eta -:--:--\n",
      "                                              0.0/62.8 kB ? eta -:--:--\n",
      "                                              0.0/62.8 kB ? eta -:--:--\n",
      "                                              0.0/62.8 kB ? eta -:--:--\n",
      "                                              0.0/62.8 kB ? eta -:--:--\n",
      "                                              0.0/62.8 kB ? eta -:--:--\n",
      "     ------                                   10.2/62.8 kB ? eta -:--:--\n",
      "     ------                                   10.2/62.8 kB ? eta -:--:--\n",
      "     ------                                   10.2/62.8 kB ? eta -:--:--\n",
      "     ------                                   10.2/62.8 kB ? eta -:--:--\n",
      "     ------                                   10.2/62.8 kB ? eta -:--:--\n",
      "     ------                                   10.2/62.8 kB ? eta -:--:--\n",
      "     ------                                   10.2/62.8 kB ? eta -:--:--\n",
      "     ------                                   10.2/62.8 kB ? eta -:--:--\n",
      "     ------                                   10.2/62.8 kB ? eta -:--:--\n",
      "     ------                                   10.2/62.8 kB ? eta -:--:--\n",
      "     ------                                   10.2/62.8 kB ? eta -:--:--\n",
      "     ------                                   10.2/62.8 kB ? eta -:--:--\n",
      "     ------                                   10.2/62.8 kB ? eta -:--:--\n",
      "     ------                                   10.2/62.8 kB ? eta -:--:--\n",
      "     ------                                   10.2/62.8 kB ? eta -:--:--\n",
      "     ------                                   10.2/62.8 kB ? eta -:--:--\n",
      "     -------------------                     30.7/62.8 kB 29.1 kB/s eta 0:00:02\n",
      "     -------------------                     30.7/62.8 kB 29.1 kB/s eta 0:00:02\n",
      "     -------------------                     30.7/62.8 kB 29.1 kB/s eta 0:00:02\n",
      "     -------------------                     30.7/62.8 kB 29.1 kB/s eta 0:00:02\n",
      "     -------------------                     30.7/62.8 kB 29.1 kB/s eta 0:00:02\n",
      "     -------------------                     30.7/62.8 kB 29.1 kB/s eta 0:00:02\n",
      "     -------------------                     30.7/62.8 kB 29.1 kB/s eta 0:00:02\n",
      "     -------------------                     30.7/62.8 kB 29.1 kB/s eta 0:00:02\n",
      "     -------------------                     30.7/62.8 kB 29.1 kB/s eta 0:00:02\n",
      "     -------------------                     30.7/62.8 kB 29.1 kB/s eta 0:00:02\n",
      "     -------------------                     30.7/62.8 kB 29.1 kB/s eta 0:00:02\n",
      "     -------------------                     30.7/62.8 kB 29.1 kB/s eta 0:00:02\n",
      "     -------------------                     30.7/62.8 kB 29.1 kB/s eta 0:00:02\n",
      "     -------------------                     30.7/62.8 kB 29.1 kB/s eta 0:00:02\n",
      "     -------------------                     30.7/62.8 kB 29.1 kB/s eta 0:00:02\n",
      "     -------------------                     30.7/62.8 kB 29.1 kB/s eta 0:00:02\n",
      "     -------------------                     30.7/62.8 kB 29.1 kB/s eta 0:00:02\n",
      "     -------------------                     30.7/62.8 kB 29.1 kB/s eta 0:00:02\n",
      "     -------------------                     30.7/62.8 kB 29.1 kB/s eta 0:00:02\n",
      "     -------------------                     30.7/62.8 kB 29.1 kB/s eta 0:00:02\n",
      "     -------------------                     30.7/62.8 kB 29.1 kB/s eta 0:00:02\n",
      "     -------------------                     30.7/62.8 kB 29.1 kB/s eta 0:00:02\n",
      "     -------------------                     30.7/62.8 kB 29.1 kB/s eta 0:00:02\n",
      "     -------------------                     30.7/62.8 kB 29.1 kB/s eta 0:00:02\n",
      "     -------------------                     30.7/62.8 kB 29.1 kB/s eta 0:00:02\n",
      "     -------------------                     30.7/62.8 kB 29.1 kB/s eta 0:00:02\n",
      "     -------------------                     30.7/62.8 kB 29.1 kB/s eta 0:00:02\n",
      "     -------------------                     30.7/62.8 kB 29.1 kB/s eta 0:00:02\n",
      "     -------------------                     30.7/62.8 kB 29.1 kB/s eta 0:00:02\n",
      "     -------------------                     30.7/62.8 kB 29.1 kB/s eta 0:00:02\n",
      "     -------------------                     30.7/62.8 kB 29.1 kB/s eta 0:00:02\n",
      "     -------------------                     30.7/62.8 kB 29.1 kB/s eta 0:00:02\n",
      "     -------------------                     30.7/62.8 kB 29.1 kB/s eta 0:00:02\n",
      "     -------------------                     30.7/62.8 kB 29.1 kB/s eta 0:00:02\n",
      "     -------------------                     30.7/62.8 kB 29.1 kB/s eta 0:00:02\n",
      "     -------------------                     30.7/62.8 kB 29.1 kB/s eta 0:00:02\n",
      "     -------------------                     30.7/62.8 kB 29.1 kB/s eta 0:00:02\n",
      "     -------------------                     30.7/62.8 kB 29.1 kB/s eta 0:00:02\n",
      "     -------------------                     30.7/62.8 kB 29.1 kB/s eta 0:00:02\n",
      "     -------------------------               41.0/62.8 kB 13.2 kB/s eta 0:00:02\n",
      "     -------------------------               41.0/62.8 kB 13.2 kB/s eta 0:00:02\n",
      "     -------------------------               41.0/62.8 kB 13.2 kB/s eta 0:00:02\n",
      "     --------------------------------------- 62.8/62.8 kB 21.4 kB/s eta 0:00:00\n",
      "Installing collected packages: pyflakes, pycodestyle, mccabe, flake8\n",
      "Successfully installed flake8-6.0.0 mccabe-0.7.0 pycodestyle-2.10.0 pyflakes-3.0.1\n"
     ]
    }
   ],
   "source": [
    "!pip install flake8"
   ]
  },
  {
   "cell_type": "code",
   "execution_count": 8,
   "id": "870e1d3d",
   "metadata": {},
   "outputs": [
    {
     "ename": "SyntaxError",
     "evalue": "invalid syntax (872970102.py, line 1)",
     "output_type": "error",
     "traceback": [
      "\u001b[1;36m  Cell \u001b[1;32mIn[8], line 1\u001b[1;36m\u001b[0m\n\u001b[1;33m    flake8 assignment.py\u001b[0m\n\u001b[1;37m           ^\u001b[0m\n\u001b[1;31mSyntaxError\u001b[0m\u001b[1;31m:\u001b[0m invalid syntax\n"
     ]
    }
   ],
   "source": [
    "flake8 assignment.py"
   ]
  },
  {
   "cell_type": "code",
   "execution_count": 9,
   "id": "766f1553",
   "metadata": {},
   "outputs": [
    {
     "ename": "ModuleNotFoundError",
     "evalue": "No module named 'flask'",
     "output_type": "error",
     "traceback": [
      "\u001b[1;31m---------------------------------------------------------------------------\u001b[0m",
      "\u001b[1;31mModuleNotFoundError\u001b[0m                       Traceback (most recent call last)",
      "Cell \u001b[1;32mIn[9], line 1\u001b[0m\n\u001b[1;32m----> 1\u001b[0m \u001b[38;5;28;01mfrom\u001b[39;00m \u001b[38;5;21;01mflask\u001b[39;00m \u001b[38;5;28;01mimport\u001b[39;00m Flask, request\n\u001b[0;32m      2\u001b[0m \u001b[38;5;28;01mfrom\u001b[39;00m \u001b[38;5;21;01myour_package\u001b[39;00m\u001b[38;5;21;01m.\u001b[39;00m\u001b[38;5;21;01myour_module\u001b[39;00m \u001b[38;5;28;01mimport\u001b[39;00m english_to_french, french_to_english\n\u001b[0;32m      4\u001b[0m app \u001b[38;5;241m=\u001b[39m Flask(\u001b[38;5;18m__name__\u001b[39m)\n",
      "\u001b[1;31mModuleNotFoundError\u001b[0m: No module named 'flask'"
     ]
    }
   ],
   "source": [
    "from flask import Flask, request\n",
    "from your_package.your_module import english_to_french, french_to_english\n",
    "\n",
    "app = Flask(__name__)\n",
    "\n",
    "@app.route('/translate/english-to-french', methods=['POST'])\n",
    "def translate_english_to_french():\n",
    "    sentence = request.json['sentence']\n",
    "    translation = english_to_french(sentence)\n",
    "    return {'translation': translation}\n",
    "\n",
    "@app.route('/translate/french-to-english', methods=['POST'])\n",
    "def translate_french_to_english():\n",
    "    sentence = request.json['sentence']\n",
    "    translation = french_to_english(sentence)\n",
    "    return {'translation': translation}\n",
    "\n",
    "if __name__ == '__main__':\n",
    "    app.run()\n"
   ]
  },
  {
   "cell_type": "code",
   "execution_count": null,
   "id": "2464a826",
   "metadata": {},
   "outputs": [],
   "source": []
  },
  {
   "cell_type": "code",
   "execution_count": null,
   "id": "bd1d2ee8",
   "metadata": {},
   "outputs": [],
   "source": []
  }
 ],
 "metadata": {
  "kernelspec": {
   "display_name": "Python 3 (ipykernel)",
   "language": "python",
   "name": "python3"
  },
  "language_info": {
   "codemirror_mode": {
    "name": "ipython",
    "version": 3
   },
   "file_extension": ".py",
   "mimetype": "text/x-python",
   "name": "python",
   "nbconvert_exporter": "python",
   "pygments_lexer": "ipython3",
   "version": "3.11.4"
  }
 },
 "nbformat": 4,
 "nbformat_minor": 5
}
